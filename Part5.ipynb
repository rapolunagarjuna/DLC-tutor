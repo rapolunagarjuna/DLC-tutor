{
 "cells": [
  {
   "cell_type": "markdown",
   "id": "15fee18e",
   "metadata": {},
   "source": [
    "Iam a graduate student majoring in Computer Science at University of Massachusetts Boston. This semester I have taken a course on Machine Learning. I have been learning R and understanding how SVM and Clustering works. I have always been a curious student and when performing the tutorial I was getting some sense of what we are trying to do with k-means. Apart from machine learning I have been learning about AWS specifically deploying a website onto Elastic Bean stalk interacting with EC2 isntance, S3 storage. I also do backend development using Django, Express and sometime frontend development with React. In my free time I watch soccer, Iam a big arsenal fan. I have been following arsenal for the past 7years or so."
   ]
  },
  {
   "cell_type": "code",
   "execution_count": 4,
   "id": "4d72afaa",
   "metadata": {},
   "outputs": [],
   "source": [
    "from IPython.display import HTML\n"
   ]
  },
  {
   "cell_type": "code",
   "execution_count": 6,
   "id": "430221bd",
   "metadata": {},
   "outputs": [
    {
     "data": {
      "text/html": [
       "\n",
       "<video width=\"320\" height=\"240\" controls>\n",
       "  <source src=\"https://github.com/rapolunagarjuna/DLC-tutor/blob/main/Part%202.mp4?raw=true\">\n",
       "</video>\n"
      ],
      "text/plain": [
       "<IPython.core.display.HTML object>"
      ]
     },
     "execution_count": 6,
     "metadata": {},
     "output_type": "execute_result"
    }
   ],
   "source": [
    "HTML(\"\"\"\n",
    "<video width=\"320\" height=\"240\" controls>\n",
    "  <source src=\"https://github.com/rapolunagarjuna/DLC-tutor/blob/main/Part%202.mp4?raw=true\">\n",
    "</video>\n",
    "\"\"\")\n"
   ]
  },
  {
   "cell_type": "code",
   "execution_count": null,
   "id": "766ec14d",
   "metadata": {},
   "outputs": [],
   "source": []
  }
 ],
 "metadata": {
  "kernelspec": {
   "display_name": "Python 3 (ipykernel)",
   "language": "python",
   "name": "python3"
  },
  "language_info": {
   "codemirror_mode": {
    "name": "ipython",
    "version": 3
   },
   "file_extension": ".py",
   "mimetype": "text/x-python",
   "name": "python",
   "nbconvert_exporter": "python",
   "pygments_lexer": "ipython3",
   "version": "3.9.12"
  }
 },
 "nbformat": 4,
 "nbformat_minor": 5
}
